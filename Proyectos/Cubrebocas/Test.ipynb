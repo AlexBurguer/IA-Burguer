{
 "cells": [
  {
   "cell_type": "code",
   "execution_count": null,
   "id": "45f68c01-0eb6-407e-a162-d586b22bcff9",
   "metadata": {},
   "outputs": [],
   "source": [
    "import cv2\n",
    "\n",
    "cap = cv2.VideoCapture(0,cv2.CAP_DSHOW)\n",
    "clasificador = cv2.CascadeClassifier('cascade.xml')\n",
    "\n",
    "while True:\n",
    "    \n",
    "    ret,frame = cap.read()\n",
    "    gray = cv2.cvtColor(frame, cv2.COLOR_BGR2GRAY)\n",
    "    \n",
    "    wed = clasificador.detectMultiScale(gray,\n",
    "    scaleFactor = 1.030,\n",
    "    minNeighbors = 110,\n",
    "    minSize = (50,50))\n",
    "\n",
    "    for (x,y,w,h) in wed:\n",
    "  \n",
    "        cv2.rectangle(frame, (x,y),(x+w,y+h),(0,255,0),2)\n",
    "\n",
    "    cv2.imshow('Video',frame)\n",
    "    \n",
    "    if cv2.waitKey(1) == 32:\n",
    "        break\n",
    "cap.release()\n",
    "cv2.destroyAllWindows()"
   ]
  },
  {
   "cell_type": "code",
   "execution_count": null,
   "id": "12aeba53-85c4-44e2-83dc-88a699c67e0e",
   "metadata": {},
   "outputs": [],
   "source": []
  }
 ],
 "metadata": {
  "kernelspec": {
   "display_name": "Python 3 (ipykernel)",
   "language": "python",
   "name": "python3"
  },
  "language_info": {
   "codemirror_mode": {
    "name": "ipython",
    "version": 3
   },
   "file_extension": ".py",
   "mimetype": "text/x-python",
   "name": "python",
   "nbconvert_exporter": "python",
   "pygments_lexer": "ipython3",
   "version": "3.11.5"
  }
 },
 "nbformat": 4,
 "nbformat_minor": 5
}
