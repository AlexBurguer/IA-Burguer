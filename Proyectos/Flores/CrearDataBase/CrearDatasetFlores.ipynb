{
 "cells": [
  {
   "cell_type": "code",
   "execution_count": 12,
   "id": "b3d39982-d48a-4399-9400-a99f355675af",
   "metadata": {},
   "outputs": [],
   "source": [
    "%matplotlib tk\n",
    "import matplotlib.pyplot as plt\n",
    "import matplotlib.image as mpimg\n",
    "import cv2 as cv\n",
    "import numpy as np\n"
   ]
  },
  {
   "cell_type": "code",
   "execution_count": 55,
   "id": "ec323433-85a7-49d0-9726-cac9751f0d9d",
   "metadata": {
    "scrolled": true
   },
   "outputs": [],
   "source": [
    "cap = cv.VideoCapture(\".\\ChryslerBis.mp4\")\n",
    "i = 0\n",
    "\n",
    "def getpixel(event,x,y,flags,param):\n",
    "  # adds point (x,y) in pixels ont the current list  \n",
    "    if event == cv.EVENT_LBUTTONDOWN:\n",
    "        print (x,y)\n",
    "\n",
    "while True:\n",
    "    ret, frame = cap.read()\n",
    "    cv.rectangle(frame, (200, 100), (800,700), (255,0,0),2)\n",
    "    cv.imshow('Video', frame)\n",
    "    cv.setMouseCallback('Video',getpixel)\n",
    "        \n",
    "    k = cv.waitKey(20)\n",
    "    if k == ord('q'):\n",
    "        break\n",
    "\n",
    "cap.release()\n",
    "cv.destroyAllWindows()"
   ]
  },
  {
   "cell_type": "code",
   "execution_count": 56,
   "id": "fbdf4edb-118e-4936-83a8-2767b089ff4c",
   "metadata": {},
   "outputs": [],
   "source": [
    "cap = cv.VideoCapture(\".\\ChryslerBis.mp4\")\n",
    "i = 412\n",
    "\n",
    "while True:\n",
    "    ret, frame = cap.read()\n",
    "    \n",
    "    cv.imshow('Video-Cap', frame)\n",
    "    cv.setMouseCallback('Video-Cap',getpixel)\n",
    "        \n",
    "    k = cv.waitKey(20)\n",
    "    if k == ord('q'):\n",
    "        #planta = frame[yi:yf, xi:xf]\n",
    "        planta = frame[100:700, 200:800]\n",
    "        i += 1\n",
    "        cv.imwrite(f'imagen_{i}.jpg', planta)\n",
    "    s = cv.waitKey(20)\n",
    "    if s == ord('s'):\n",
    "        break\n",
    "\n",
    "cap.release()\n",
    "cv.destroyAllWindows()"
   ]
  },
  {
   "cell_type": "code",
   "execution_count": null,
   "id": "303d9e8d-f257-4ea3-8890-908307231ed4",
   "metadata": {},
   "outputs": [],
   "source": []
  }
 ],
 "metadata": {
  "kernelspec": {
   "display_name": "Python 3 (ipykernel)",
   "language": "python",
   "name": "python3"
  },
  "language_info": {
   "codemirror_mode": {
    "name": "ipython",
    "version": 3
   },
   "file_extension": ".py",
   "mimetype": "text/x-python",
   "name": "python",
   "nbconvert_exporter": "python",
   "pygments_lexer": "ipython3",
   "version": "3.11.5"
  }
 },
 "nbformat": 4,
 "nbformat_minor": 5
}
